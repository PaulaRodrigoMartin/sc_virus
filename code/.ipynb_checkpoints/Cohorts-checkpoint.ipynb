{
 "cells": [
  {
   "cell_type": "markdown",
   "id": "b55be2ea-ae6d-4a5c-9af8-d2bc2182b53a",
   "metadata": {},
   "source": [
    "# Data"
   ]
  },
  {
   "cell_type": "code",
   "execution_count": 1,
   "id": "e7d504e9-fac7-4610-8a41-7d702c3f4795",
   "metadata": {},
   "outputs": [],
   "source": [
    "import sys"
   ]
  },
  {
   "cell_type": "code",
   "execution_count": 28,
   "id": "a85e01d0-2600-4db0-b7db-45c3ea49e90a",
   "metadata": {},
   "outputs": [],
   "source": [
    "import anndata as ad #\n",
    "import scanpy as sc #\n",
    "import seaborn as sns #\n",
    "import pandas as pd #\n",
    "import numpy as np #\n",
    "import matplotlib.pyplot as pltm #\n",
    "from scipy.sparse import issparse, csr_matrix #\n",
    "import scvelo as scv #\n",
    "import re #\n",
    "# import bbknn\n",
    "import os\n",
    "from matplotlib.pyplot import rc_context\n",
    "\n",
    "from IPython.display import Markdown, display\n",
    "from IPython.core.display import display, HTML\n",
    "#import anndata2ri\n",
    "from os import environ\n",
    "from rds2py import as_summarized_experiment, read_rds, as_sparse_matrix, as_dense_matrix\n",
    "from rds2py import as_pandas\n"
   ]
  },
  {
   "cell_type": "code",
   "execution_count": 9,
   "id": "4e475066-1c84-47af-806a-eb53af13459f",
   "metadata": {},
   "outputs": [],
   "source": [
    "coha = read_rds(\"/home/paulilokiestudia/jsp_student_projects/sc_covid_PiB2023/msc/datax/th_mireact_downsampled_patients.rds\")"
   ]
  },
  {
   "cell_type": "code",
   "execution_count": 10,
   "id": "d74ff6c6-fea0-48fc-b524-a455816ef78f",
   "metadata": {},
   "outputs": [],
   "source": [
    "coha = as_dense_matrix(coha)"
   ]
  },
  {
   "cell_type": "code",
   "execution_count": 16,
   "id": "afc2918a-c586-44c0-9686-706d3b0206b3",
   "metadata": {},
   "outputs": [
    {
     "data": {
      "text/plain": [
       "(17163, 12325)"
      ]
     },
     "execution_count": 16,
     "metadata": {},
     "output_type": "execute_result"
    }
   ],
   "source": [
    "coha.shape #genes x cells"
   ]
  },
  {
   "cell_type": "code",
   "execution_count": 17,
   "id": "36a3d8d8-59d0-4a9d-aa6a-22d571924c38",
   "metadata": {},
   "outputs": [],
   "source": [
    "adata = sc.read_h5ad(\"/faststorage/project/sc_covid_PiB2023/data/sc_covid/COVID19_ALL.h5ad\")"
   ]
  },
  {
   "cell_type": "code",
   "execution_count": 18,
   "id": "51da8a9d-2b44-467d-9037-c28c301bbaac",
   "metadata": {},
   "outputs": [
    {
     "data": {
      "text/plain": [
       "AnnData object with n_obs × n_vars = 1462702 × 27943\n",
       "    obs: 'celltype', 'majorType', 'sampleID', 'PatientID', 'datasets', 'City', 'Age', 'Sex', 'Sample type', 'CoVID-19 severity', 'Sample time', 'Sampling day (Days after symptom onset)', 'SARS-CoV-2', 'Single cell sequencing platform', 'BCR single cell sequencing', 'TCR single cell sequencing', 'Outcome', 'Comorbidities', 'COVID-19-related medication and anti-microbials', 'Leukocytes [G/L]', 'Neutrophils [G/L]', 'Lymphocytes [G/L]', 'Unpublished'\n",
       "    uns: 'neighbors', 'pca'\n",
       "    obsm: 'X_pca', 'X_tsne', 'har_emb'\n",
       "    obsp: 'connectivities', 'distances'"
      ]
     },
     "execution_count": 18,
     "metadata": {},
     "output_type": "execute_result"
    }
   ],
   "source": [
    "adata"
   ]
  },
  {
   "cell_type": "code",
   "execution_count": 20,
   "id": "3ba68b49-da63-40a8-9934-54080ed96dbe",
   "metadata": {},
   "outputs": [
    {
     "data": {
      "text/plain": [
       "SARS-CoV-2\n",
       "positive    1297702\n",
       "negative     165000\n",
       "Name: count, dtype: int64"
      ]
     },
     "execution_count": 20,
     "metadata": {},
     "output_type": "execute_result"
    }
   ],
   "source": [
    "adata.obs['SARS-CoV-2'].value_counts()"
   ]
  },
  {
   "cell_type": "code",
   "execution_count": 21,
   "id": "e712fc45-9bb6-41c0-828c-29d70587940f",
   "metadata": {},
   "outputs": [
    {
     "data": {
      "text/plain": [
       "CoVID-19 severity\n",
       "mild/moderate      700968\n",
       "severe/critical    596734\n",
       "control            165000\n",
       "Name: count, dtype: int64"
      ]
     },
     "execution_count": 21,
     "metadata": {},
     "output_type": "execute_result"
    }
   ],
   "source": [
    "adata.obs['CoVID-19 severity'].value_counts()"
   ]
  },
  {
   "cell_type": "code",
   "execution_count": 22,
   "id": "d36cd8a6-1b0a-4b31-a593-7106cbf4d5d8",
   "metadata": {},
   "outputs": [
    {
     "data": {
      "text/plain": [
       "['P-S070', 'P-S069', 'P-S071', 'P-S072', 'P-M056', ..., 'P-S049', 'P-S050', 'P-S051', 'P-S052', 'P-S053']\n",
       "Length: 196\n",
       "Categories (196, object): ['P-HC001', 'P-HC002', 'P-HC003', 'P-HC004', ..., 'P-S089', 'P-S090', 'P-S091', 'P-S092']"
      ]
     },
     "execution_count": 22,
     "metadata": {},
     "output_type": "execute_result"
    }
   ],
   "source": [
    "adata.obs['PatientID'].unique()"
   ]
  },
  {
   "cell_type": "code",
   "execution_count": 24,
   "id": "679a95d4-af5c-4324-9426-2429172bd5c1",
   "metadata": {},
   "outputs": [
    {
     "name": "stdout",
     "output_type": "stream",
     "text": [
      "['P-S070', 'P-S069', 'P-S071', 'P-S072', 'P-S054', ..., 'P-S049', 'P-S050', 'P-S051', 'P-S052', 'P-S053']\n",
      "Length: 92\n",
      "Categories (196, object): ['P-HC001', 'P-HC002', 'P-HC003', 'P-HC004', ..., 'P-S089', 'P-S090', 'P-S091', 'P-S092']\n"
     ]
    }
   ],
   "source": [
    "# Filter the DataFrame for 'severe' or 'critical' CoVID-19 severity\n",
    "severe_critical_patients = adata.obs[adata.obs['CoVID-19 severity'].isin(['severe/critical'])]\n",
    "\n",
    "# Get the unique PatientID values from the filtered DataFrame\n",
    "unique_patient_ids = severe_critical_patients['PatientID'].unique()\n",
    "print(unique_patient_ids)"
   ]
  },
  {
   "cell_type": "code",
   "execution_count": 25,
   "id": "5d4a3e17-8da1-408f-a80d-0a148c8fef4a",
   "metadata": {},
   "outputs": [],
   "source": [
    "adata_down = sc.read_h5ad(\"/home/paulilokiestudia/jsp_student_projects/sc_covid_PiB2023/msc/datax/th_mireact_downsampled_patients_viralload.h5ad\")"
   ]
  },
  {
   "cell_type": "code",
   "execution_count": 26,
   "id": "59bd5643-2dc6-4002-9943-1b5c4eeb1b2d",
   "metadata": {},
   "outputs": [
    {
     "data": {
      "text/plain": [
       "AnnData object with n_obs × n_vars = 12325 × 17163\n",
       "    obs: 'celltype', 'majorType', 'sampleID', 'PatientID', 'datasets', 'City', 'Age', 'Sex', 'Sample type', 'CoVID-19 severity', 'Sample time', 'Sampling day (Days after symptom onset)', 'SARS-CoV-2', 'Single cell sequencing platform', 'BCR single cell sequencing', 'TCR single cell sequencing', 'Outcome', 'Comorbidities', 'COVID-19-related medication and anti-microbials', 'Leukocytes [G/L]', 'Neutrophils [G/L]', 'Lymphocytes [G/L]', 'Unpublished', 'typecell', 'sampleid', 'patients', 'n_counts', 'Is_infected', 'viral_load'\n",
       "    obsm: 'X_PCA', 'X_TSNE', 'X_pca', 'X_tsne', 'har_emb'"
      ]
     },
     "execution_count": 26,
     "metadata": {},
     "output_type": "execute_result"
    }
   ],
   "source": [
    "adata_down"
   ]
  },
  {
   "cell_type": "code",
   "execution_count": 27,
   "id": "4abf1f45-2621-44f4-9901-677064674bd3",
   "metadata": {},
   "outputs": [
    {
     "data": {
      "text/plain": [
       "['P-S086', 'P-S085', 'P-S087', 'P-S089', 'P-S090', 'P-S008', 'P-S001', 'P-S005']\n",
       "Categories (8, object): ['P-S001', 'P-S005', 'P-S008', 'P-S085', 'P-S086', 'P-S087', 'P-S089', 'P-S090']"
      ]
     },
     "execution_count": 27,
     "metadata": {},
     "output_type": "execute_result"
    }
   ],
   "source": [
    "adata_down.obs['PatientID'].unique()"
   ]
  },
  {
   "cell_type": "code",
   "execution_count": 39,
   "id": "8810d087-884d-4751-a96e-43be83b6cc4f",
   "metadata": {},
   "outputs": [],
   "source": [
    "X_dense = adata_down.X.toarray() if hasattr(adata_down.X, \"toarray\") else adata_down.X\n"
   ]
  },
  {
   "cell_type": "code",
   "execution_count": 41,
   "id": "5c94b325-f77d-4e8b-80ab-58fc872de0eb",
   "metadata": {},
   "outputs": [
    {
     "data": {
      "text/plain": [
       "(12325, 17163)"
      ]
     },
     "execution_count": 41,
     "metadata": {},
     "output_type": "execute_result"
    }
   ],
   "source": [
    "X_dense.shape"
   ]
  },
  {
   "cell_type": "code",
   "execution_count": 40,
   "id": "41719fd6-8a8b-4ab0-b67a-1c10db3b4d88",
   "metadata": {},
   "outputs": [
    {
     "name": "stdout",
     "output_type": "stream",
     "text": [
      "0\n"
     ]
    }
   ],
   "source": [
    "print(np.isnan(X_dense).sum())"
   ]
  },
  {
   "cell_type": "code",
   "execution_count": 42,
   "id": "3bc0f8fd-846a-4281-9dc5-433b1f89610b",
   "metadata": {},
   "outputs": [],
   "source": [
    "adata_down.X = X_dense"
   ]
  },
  {
   "cell_type": "code",
   "execution_count": 44,
   "id": "98874b55-273a-49c2-bda4-5c8ba3b5a701",
   "metadata": {},
   "outputs": [],
   "source": [
    "# sc.tl.tsne(adata_down)"
   ]
  },
  {
   "cell_type": "code",
   "execution_count": 45,
   "id": "7ca9c69b-9618-404e-be3a-b8cd7ae5def8",
   "metadata": {},
   "outputs": [],
   "source": [
    "# print(np.isnan(adata_down.X).sum())"
   ]
  },
  {
   "cell_type": "code",
   "execution_count": 49,
   "id": "4e8d3c8c-d09d-429c-9533-604935ac7d93",
   "metadata": {},
   "outputs": [
    {
     "data": {
      "text/plain": [
       "AnnData object with n_obs × n_vars = 12325 × 17163\n",
       "    obs: 'celltype', 'majorType', 'sampleID', 'PatientID', 'datasets', 'City', 'Age', 'Sex', 'Sample type', 'CoVID-19 severity', 'Sample time', 'Sampling day (Days after symptom onset)', 'SARS-CoV-2', 'Single cell sequencing platform', 'BCR single cell sequencing', 'TCR single cell sequencing', 'Outcome', 'Comorbidities', 'COVID-19-related medication and anti-microbials', 'Leukocytes [G/L]', 'Neutrophils [G/L]', 'Lymphocytes [G/L]', 'Unpublished', 'typecell', 'sampleid', 'patients', 'n_counts', 'Is_infected', 'viral_load'\n",
       "    obsm: 'X_PCA', 'X_TSNE', 'X_pca', 'X_tsne', 'har_emb'"
      ]
     },
     "execution_count": 49,
     "metadata": {},
     "output_type": "execute_result"
    }
   ],
   "source": [
    "adata_down"
   ]
  },
  {
   "cell_type": "code",
   "execution_count": 47,
   "id": "7b948959-ccf1-4cef-98d3-c3fb562cce99",
   "metadata": {},
   "outputs": [
    {
     "data": {
      "text/plain": [
       "['P-S086', 'P-S085', 'P-S087', 'P-S089', 'P-S090', 'P-S008', 'P-S001', 'P-S005']\n",
       "Categories (8, object): ['P-S001', 'P-S005', 'P-S008', 'P-S085', 'P-S086', 'P-S087', 'P-S089', 'P-S090']"
      ]
     },
     "execution_count": 47,
     "metadata": {},
     "output_type": "execute_result"
    }
   ],
   "source": [
    "adata_down.obs['PatientID'].unique()"
   ]
  },
  {
   "cell_type": "code",
   "execution_count": 48,
   "id": "7754b1ad-e188-4b9f-b970-600984b96695",
   "metadata": {},
   "outputs": [
    {
     "name": "stdout",
     "output_type": "stream",
     "text": [
      "['P-HC008', 'P-HC009', 'P-HC010', 'P-HC011', 'P-HC012', ..., 'P-HC021', 'P-HC022', 'P-HC023', 'P-HC024', 'P-HC025']\n",
      "Length: 25\n",
      "Categories (196, object): ['P-HC001', 'P-HC002', 'P-HC003', 'P-HC004', ..., 'P-S089', 'P-S090', 'P-S091', 'P-S092']\n"
     ]
    }
   ],
   "source": [
    "# Filter the DataFrame for 'severe' or 'critical' CoVID-19 severity\n",
    "control = adata.obs[adata.obs['CoVID-19 severity'].isin(['control'])]\n",
    "\n",
    "# Get the unique PatientID values from the filtered DataFrame\n",
    "unique_patient_ids = control['PatientID'].unique()\n",
    "print(unique_patient_ids)"
   ]
  },
  {
   "cell_type": "code",
   "execution_count": 51,
   "id": "cbf4bf9e-8420-4670-962b-a64f171db5e5",
   "metadata": {},
   "outputs": [],
   "source": [
    "adata_control = adata[adata.obs['CoVID-19 severity'] == 'control']"
   ]
  },
  {
   "cell_type": "code",
   "execution_count": 53,
   "id": "394e9962-b4cb-4e4c-b0ab-ad29ae7d4e2d",
   "metadata": {},
   "outputs": [
    {
     "data": {
      "text/plain": [
       "View of AnnData object with n_obs × n_vars = 165000 × 27943\n",
       "    obs: 'celltype', 'majorType', 'sampleID', 'PatientID', 'datasets', 'City', 'Age', 'Sex', 'Sample type', 'CoVID-19 severity', 'Sample time', 'Sampling day (Days after symptom onset)', 'SARS-CoV-2', 'Single cell sequencing platform', 'BCR single cell sequencing', 'TCR single cell sequencing', 'Outcome', 'Comorbidities', 'COVID-19-related medication and anti-microbials', 'Leukocytes [G/L]', 'Neutrophils [G/L]', 'Lymphocytes [G/L]', 'Unpublished'\n",
       "    uns: 'neighbors', 'pca'\n",
       "    obsm: 'X_pca', 'X_tsne', 'har_emb'\n",
       "    obsp: 'connectivities', 'distances'"
      ]
     },
     "execution_count": 53,
     "metadata": {},
     "output_type": "execute_result"
    }
   ],
   "source": [
    "adata_control #cells x genes"
   ]
  },
  {
   "cell_type": "code",
   "execution_count": 54,
   "id": "a4660f81-6892-45ba-a142-36eb503a4a9d",
   "metadata": {},
   "outputs": [
    {
     "name": "stdout",
     "output_type": "stream",
     "text": [
      "    PatientID  cell_count\n",
      "0     P-HC001        8767\n",
      "1     P-HC002       10553\n",
      "2     P-HC003        4937\n",
      "3     P-HC004        6008\n",
      "4     P-HC005        9142\n",
      "..        ...         ...\n",
      "191    P-S088       12155\n",
      "192    P-S089       13941\n",
      "193    P-S090        5820\n",
      "194    P-S091        1246\n",
      "195    P-S092        9654\n",
      "\n",
      "[196 rows x 2 columns]\n"
     ]
    }
   ],
   "source": [
    "# Group by 'PatientID' and count the number of cells per patient\n",
    "cell_counts_per_patient = adata.obs.groupby('PatientID').size()\n",
    "\n",
    "# Convert the result to a DataFrame for better readability (optional)\n",
    "cell_counts_per_patient_df = cell_counts_per_patient.reset_index(name='cell_count')\n",
    "\n",
    "# Print the result\n",
    "print(cell_counts_per_patient_df)"
   ]
  },
  {
   "cell_type": "code",
   "execution_count": 55,
   "id": "efe00d67-9b5c-4164-a959-af32234e17cf",
   "metadata": {},
   "outputs": [
    {
     "name": "stdout",
     "output_type": "stream",
     "text": [
      "   PatientID  cell_count\n",
      "0    P-HC001        8767\n",
      "1    P-HC002       10553\n",
      "2    P-HC003        4937\n",
      "3    P-HC004        6008\n",
      "4    P-HC005        9142\n",
      "5    P-HC006        6092\n",
      "6    P-HC007        7074\n",
      "7    P-HC008        3673\n",
      "8    P-HC009        4380\n",
      "9    P-HC010        5138\n",
      "10   P-HC011        3832\n",
      "11   P-HC012        5035\n",
      "12   P-HC013       10477\n",
      "13   P-HC014        8393\n",
      "14   P-HC015       10772\n",
      "15   P-HC016        6974\n",
      "16   P-HC017       10067\n",
      "17   P-HC018        6321\n",
      "18   P-HC019        5311\n",
      "19   P-HC020        7249\n",
      "20   P-HC021        5966\n",
      "21   P-HC022        4860\n",
      "22   P-HC023        4689\n",
      "23   P-HC024        5228\n",
      "24   P-HC025        4062\n"
     ]
    }
   ],
   "source": [
    "# Group by 'PatientID' and count the number of cells per patient\n",
    "cell_counts_per_patient = adata_control.obs.groupby('PatientID').size()\n",
    "\n",
    "# Convert the result to a DataFrame for better readability (optional)\n",
    "cell_counts_per_patient_df = cell_counts_per_patient.reset_index(name='cell_count')\n",
    "\n",
    "# Print the result\n",
    "print(cell_counts_per_patient_df)"
   ]
  }
 ],
 "metadata": {
  "kernelspec": {
   "display_name": "Python 3 (ipykernel)",
   "language": "python",
   "name": "python3"
  },
  "language_info": {
   "codemirror_mode": {
    "name": "ipython",
    "version": 3
   },
   "file_extension": ".py",
   "mimetype": "text/x-python",
   "name": "python",
   "nbconvert_exporter": "python",
   "pygments_lexer": "ipython3",
   "version": "3.12.3"
  }
 },
 "nbformat": 4,
 "nbformat_minor": 5
}
